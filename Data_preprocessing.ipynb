{
 "cells": [
  {
   "cell_type": "code",
   "execution_count": 1,
   "metadata": {},
   "outputs": [
    {
     "name": "stdout",
     "output_type": "stream",
     "text": [
      "total GPS POINTS in the trajectory: 115\n",
      "random trajectory number: 98\n"
     ]
    }
   ],
   "source": [
    "import visLib as vb\n",
    "import random as rd\n",
    "randStroke = rd.randint(20,200)\n",
    "randTra = rd.randint(1,200)\n",
    "datas = vb.loadData(randStroke)\n",
    "print(\"total GPS POINTS in the trajectory: \"+str(randStroke))\n",
    "print(\"random trajectory number: \"+ str(randTra))"
   ]
  },
  {
   "cell_type": "code",
   "execution_count": 2,
   "metadata": {},
   "outputs": [
    {
     "data": {
      "text/plain": [
       "['-8.578827',\n",
       " ' 41.165685',\n",
       " ' -8.578161',\n",
       " ' 41.166036',\n",
       " ' -8.578242',\n",
       " ' 41.165262',\n",
       " ' -8.579754',\n",
       " ' 41.164119',\n",
       " ' -8.581779',\n",
       " ' 41.164479']"
      ]
     },
     "execution_count": 2,
     "metadata": {},
     "output_type": "execute_result"
    }
   ],
   "source": [
    "trajectory = vb.createLineList(randTra,datas)\n",
    "trajectory[:10]"
   ]
  },
  {
   "cell_type": "code",
   "execution_count": 3,
   "metadata": {},
   "outputs": [
    {
     "data": {
      "text/plain": [
       "<rotatingCalipers._rectangle at 0x7f85de041cf8>"
      ]
     },
     "execution_count": 3,
     "metadata": {},
     "output_type": "execute_result"
    }
   ],
   "source": [
    "finalRect = vb.getMiniRect(trajectory)\n",
    "finalRect"
   ]
  },
  {
   "cell_type": "code",
   "execution_count": 4,
   "metadata": {},
   "outputs": [
    {
     "data": {
      "text/plain": [
       "0"
      ]
     },
     "execution_count": 4,
     "metadata": {},
     "output_type": "execute_result"
    },
    {
     "data": {
      "image/png": "[encoded data removed]",
      "text/plain": [
       "<Figure size 432x288 with 1 Axes>"
      ]
     },
     "metadata": {
      "needs_background": "light"
     },
     "output_type": "display_data"
    }
   ],
   "source": [
    "angle = vb.plotRightRect(finalRect)\n",
    "angle"
   ]
  },
  {
   "cell_type": "code",
   "execution_count": 5,
   "metadata": {},
   "outputs": [
    {
     "name": "stdout",
     "output_type": "stream",
     "text": [
      "[0.03053374915787736, 0.012503389141995001, 1.101872495320546]\n",
      "1.101872495320546\n"
     ]
    },
    {
     "data": {
      "image/png": "[encoded data removed]",
      "text/plain": [
       "<Figure size 432x288 with 1 Axes>"
      ]
     },
     "metadata": {
      "needs_background": "light"
     },
     "output_type": "display_data"
    }
   ],
   "source": [
    "x,y = vb.plotRightPlot(trajectory,finalRect,angle)\n",
    "#print(x)\n",
    "#print(y)"
   ]
  },
  {
   "cell_type": "code",
   "execution_count": 6,
   "metadata": {},
   "outputs": [
    {
     "data": {
      "text/plain": [
       "[[292.34471809554657, 83.26742341976394],\n",
       " [304.62660686219544, 74.55777312123806],\n",
       " [290.0854720777286, 69.00707954476955],\n",
       " [256.0268325237807, 85.6517865633173],\n",
       " [244.14660453501227, 125.03389141989653],\n",
       " [219.99251037688526, 110.5775248154835],\n",
       " [180.16055016818675, 92.41595698857502],\n",
       " [109.91569002361572, 86.49085586947382],\n",
       " [52.40764711101974, 46.66214009355559],\n",
       " [29.27873472118912, -24.782511292388925]]"
      ]
     },
     "execution_count": 6,
     "metadata": {},
     "output_type": "execute_result"
    }
   ],
   "source": [
    "stroke = vb.getStroke(x,y)\n",
    "stroke[:10]"
   ]
  },
  {
   "cell_type": "code",
   "execution_count": 7,
   "metadata": {},
   "outputs": [],
   "source": [
    "from collections import deque\n",
    "HER_GRID = 20\n",
    "VER_GRID = 20\n",
    "HER_LEN = 1800\n",
    "VER_LEN = 1200"
   ]
  },
  {
   "cell_type": "code",
   "execution_count": 10,
   "metadata": {},
   "outputs": [
    {
     "name": "stdout",
     "output_type": "stream",
     "text": [
      "[[59, 26], [60, 26], [59, 27], [60, 27], [58, 27], [58, 26], [57, 27], [57, 26], [57, 25], [57, 24], [56, 24], [55, 24], [56, 25], [55, 25], [54, 25], [55, 26], [54, 26], [53, 26], [52, 26], [51, 26], [50, 26], [49, 26], [50, 27], [48, 26], [49, 27], [48, 27], [49, 28], [47, 27], [48, 28], [47, 28], [47, 29], [46, 28], [47, 30], [46, 29], [47, 31], [46, 30], [47, 32], [46, 31], [46, 32], [45, 32], [44, 32], [43, 32], [44, 33], [42, 32], [43, 33], [41, 32], [42, 33], [41, 33], [41, 34], [41, 35], [40, 35], [41, 36], [40, 36], [39, 36], [38, 36], [39, 35], [38, 35], [39, 34], [38, 34], [40, 34], [37, 34], [38, 33], [37, 33], [38, 32], [37, 32], [38, 31], [37, 31], [37, 30], [36, 31], [36, 30], [35, 31], [36, 29], [35, 30], [35, 29], [34, 30], [34, 29], [34, 28], [33, 29], [33, 28], [32, 29], [32, 28], [31, 29], [31, 28], [30, 28], [31, 27], [30, 27], [31, 26], [30, 26], [31, 25], [30, 25], [29, 25], [30, 24], [29, 24], [40, 37], [41, 37], [42, 37], [42, 36], [42, 35], [42, 34], [43, 34], [44, 34], [45, 34], [46, 34], [45, 33], [46, 33], [47, 33], [48, 29], [49, 29], [56, 26], [58, 28], [59, 28], [60, 28], [59, 25]]\n"
     ]
    }
   ],
   "source": [
    "import numpy as np\n",
    "\n",
    "def findDirection(dx,dy):\n",
    "    \n",
    "    if dx >= 0 and dy >= 0:\n",
    "        if dx >= dy:\n",
    "            return [[1,0],[0,1],[0,-1],[-1,0]]\n",
    "        else:\n",
    "            return [[0,1],[1,0],[-1,0],[0,-1]]\n",
    "    elif dx<0 and dy<0:\n",
    "        if dx >= dy:\n",
    "            return [[-1,0],[0,-1],[0,1],[1,0]]\n",
    "        else:\n",
    "            return [[0,-1],[-1,0],[1,0],[0,1]]\n",
    "    elif dx>=0 and dy <0:\n",
    "        if abs(dx) >= abs(dy):\n",
    "            return [[1,0],[0,-1],[0,1],[-1,0]]\n",
    "        else:\n",
    "            return [[0,-1],[1,0],[-1,0],[0,1]]\n",
    "    else:\n",
    "        if abs(dx) >= abs(dy):\n",
    "            return [[-1,0],[0,1],[0,-1],[1,0]]\n",
    "        else:\n",
    "            return [[0,1],[-1,0],[1,0],[0,-1]]\n",
    "            \n",
    "def onTrajectory(p1,p2, cur):\n",
    "    x1 = p1[0]\n",
    "    x2 = p2[0]\n",
    "    y1 = p1[1]\n",
    "    y2 = p2[1]\n",
    "    x0 = cur[0]\n",
    "    y0 = cur[1]\n",
    "    if x1==x2 and y1 == y2:\n",
    "        return (x0-x1)**2+(y0-y1)**2 <=3\n",
    "    dis = abs((x2-x1)*(y1-y0) - (x1-x0)*(y2-y1)) / np.sqrt(np.square(x2-x1) + np.square(y2-y1))\n",
    "    return dis<=1.5\n",
    "    \n",
    "    \n",
    "def getGridlizedTrajectory(strokes):\n",
    "    hhalf = HER_LEN//2\n",
    "    vhalf = VER_LEN//2\n",
    "    gridTrajectory = [[round((strokes[0][0]+hhalf)//HER_GRID),round(-((strokes[0][1]-vhalf)//VER_GRID))]]\n",
    "    ret=[]\n",
    "    visited={}\n",
    "    prePoint = gridTrajectory[-1]\n",
    "    ret.append(prePoint)\n",
    "    for i in range(1,len(strokes)):\n",
    "        prePoint = gridTrajectory[-1]\n",
    "        curPoint = [round((strokes[i][0]+hhalf)//HER_GRID),round(-((strokes[i][1]-vhalf)//VER_GRID))]\n",
    "        gridTrajectory.append(curPoint)\n",
    "        xmin= min(prePoint[0],curPoint[0])\n",
    "        xmax = max(prePoint[0],curPoint[0])\n",
    "        ymin= min(prePoint[1],curPoint[1])\n",
    "        ymax = max(prePoint[1],curPoint[1])\n",
    "        \n",
    "        dx = curPoint[0] - prePoint[0]\n",
    "        dy = curPoint[1] - prePoint[1]\n",
    "\n",
    "        direction = findDirection(dx,dy)\n",
    "        nodeQueue = deque()\n",
    "        nodeQueue.append((prePoint[0],prePoint[1]))\n",
    "        while nodeQueue:\n",
    "            curNode = nodeQueue.popleft()\n",
    "            visited[curNode]=1\n",
    "            for d in direction:\n",
    "                nextNode = (curNode[0]+d[0],curNode[1]+d[1])\n",
    "                if nextNode not in visited and xmin<=nextNode[0]<=xmax and ymin<=nextNode[1]<=ymax:\n",
    "                    visited[nextNode]=1\n",
    "                    if onTrajectory(prePoint,curPoint,nextNode):\n",
    "                        nodeQueue.append(nextNode)\n",
    "                        ret.append([nextNode[0],nextNode[1]])\n",
    "    return ret\n",
    "            \n",
    "gridTrajectory =    getGridlizedTrajectory(stroke)\n",
    "print(gridTrajectory)\n",
    "                "
   ]
  },
  {
   "cell_type": "code",
   "execution_count": 24,
   "metadata": {},
   "outputs": [],
   "source": [
    "#from collections import deque\n",
    "import numpy as np\n",
    "import visLib as vb\n",
    "import random as rd\n",
    "import os\n",
    "import sys\n",
    "\n",
    "\n",
    "COL= HER_LEN//HER_GRID\n",
    "questions = []\n",
    "answers = []\n",
    "\n",
    "\n",
    "\n",
    "def grid_anchors(rowCells,colCells,row=5,col=8):\n",
    "    st_w=colCells//(col+1)\n",
    "    st_h=rowCells//(row+1)\n",
    "    #print(st_w,st_h)\n",
    "    ini_w=0\n",
    "    ini_h=0\n",
    "    anchors = []\n",
    "    for i in range(row):\n",
    "        ini_h+=st_h\n",
    "        ini_w=0\n",
    "        for j in range(col):\n",
    "            ini_w+=st_w\n",
    "            anchors.append([ini_w,ini_h])\n",
    "    return anchors\n",
    "    \n",
    "\n",
    "def to1DTraj(gridTrajectory, col):\n",
    "    ret=[]\n",
    "    for point in gridTrajectory:\n",
    "        ret.append(point[1]*col+point[0]+1)\n",
    "        #print(\"X:{} Y:{}\".format(point[0],point[1]))\n",
    "    return ret\n",
    "\n",
    "\n",
    "\n",
    "\n",
    "colmax = list(map(max, zip(*gridTrajectory))) \n",
    "colmin = list(map(min, zip(*gridTrajectory))) \n",
    "#print(colmax,colmin)\n",
    "if min(colmin)>=0 and colmax[0]<=HER_LEN//HER_GRID and colmax[1]<= VER_LEN//VER_GRID:\n",
    "    anchors = grid_anchors(60,90)\n",
    "    gridTraj1D = to1DTraj(gridTrajectory, COL)\n",
    "    gridAnchor1D = to1DTraj(anchors,COL)\n",
    "    cmd = \"./experiment/getAnswer.o \"\n",
    "    cmd += str(HER_GRID)+\" \"\n",
    "    cmd += str(VER_GRID)+\" \"\n",
    "    cmd += str(HER_LEN)+\" \"\n",
    "    cmd += str(VER_LEN)+\" \"\n",
    "    cmd += str(COL)+\" \"\n",
    "    cmd += \"1 \"\n",
    "    cmd += str(len(anchors))+ \" \"\n",
    "    for anchor in gridAnchor1D:\n",
    "        cmd+=str(anchor)\n",
    "        cmd+=\" \"\n",
    "    cmd += str(len(gridTraj1D))+ \" \"\n",
    "    for traj1D in gridTraj1D:\n",
    "        #print(traj1D)\n",
    "        #print(\"X:{} Y:{}\".format((traj1D-1)%COL,(traj1D-1)//COL))\n",
    "        cmd+=str(traj1D)\n",
    "        cmd+=\" \"\n",
    "\n",
    "    os.system(cmd)\n",
    "\n",
    "\n",
    "            \n"
   ]
  },
  {
   "cell_type": "code",
   "execution_count": 16,
   "metadata": {},
   "outputs": [
    {
     "name": "stdout",
     "output_type": "stream",
     "text": [
      "200 200\n"
     ]
    }
   ],
   "source": [
    "%gui tk\n",
    "import tkinter as tk\n",
    "import time\n",
    "\n",
    "ANCHORS=[]\n",
    "\n",
    "class myTk():\n",
    "    def __init__(self,root):\n",
    "        self.root = root\n",
    "        self.canvasSize = [HER_LEN,VER_LEN]\n",
    "        #self.gridStep=20\n",
    "        self.c = tk.Canvas(root, height=self.canvasSize[1], width=self.canvasSize[0], bg='white')\n",
    "        self.c.pack()\n",
    "        self.button = tk.Button(master=root, text=\"Quit\", command=self._quit)\n",
    "        self.button.pack(side=tk.BOTTOM)\n",
    "        \n",
    "        self.create_grid()\n",
    "        ANCHORS = self.create_grid_anchors()\n",
    "        self.plot_trajectory(gridTrajectory)\n",
    "        \n",
    "    def allButtons(self,root):\n",
    "        self.allButtonsFrame = tk.Frame(root)\n",
    "        \n",
    "    \n",
    "    \n",
    "    def create_grid(self,event=None):\n",
    "        w = self.canvasSize[0] # Get current width of canvas\n",
    "        h = self.canvasSize[1] # Get current height of canvas\n",
    "        self.c.delete('grid_line') # Will only remove the grid_line\n",
    "\n",
    "        # Creates all vertical lines at intevals of 100\n",
    "        for i in range(0, w, HER_GRID):\n",
    "            self.c.create_line([(i, 0), (i, h)], tag='grid_line')\n",
    "\n",
    "        # Creates all horizontal lines at intevals of 100\n",
    "        for i in range(0, h, VER_GRID):\n",
    "            self.c.create_line([(0, i), (w, i)], tag='grid_line')\n",
    "\n",
    "    def create_grid_anchors(self, row=5,col=8):\n",
    "        w = self.canvasSize[0] # Get current width of canvas\n",
    "        h = self.canvasSize[1] # Get current height of canvas\n",
    "        st_w=w//(col+1)\n",
    "        st_h=h//(row+1)\n",
    "        print(st_w,st_h)\n",
    "        ini_w=0\n",
    "        ini_h=0\n",
    "        anchors = []\n",
    "        for i in range(row):\n",
    "            ini_h+=st_h\n",
    "            ini_w=0\n",
    "            for j in range(col):\n",
    "                ini_w+=st_w\n",
    "                self.c.create_rectangle(ini_w, ini_h, ini_w+HER_GRID, ini_h+VER_GRID,fill=\"red\",tag='anchors')\n",
    "                anchors.append([ini_w//st_w,ini_h//st_h])\n",
    "        return anchors\n",
    "                \n",
    "                \n",
    "    def plot_trajectory(self, gridTrajectory):\n",
    "        for grid in gridTrajectory:\n",
    "            time.sleep(0.1)\n",
    "            self.root.update()\n",
    "            ini_w = grid[0]*HER_GRID\n",
    "            ini_h = grid[1]*VER_GRID\n",
    "            self.c.create_rectangle(ini_w, ini_h, ini_w+HER_GRID, ini_h+VER_GRID,fill=\"green\",tag='trajectory')\n",
    "\n",
    "    def _quit(self):\n",
    "        root.quit()     # stops mainloop\n",
    "        root.destroy()  # this is necessary on Windows to prevent\n",
    "                        # Fatal Python Error: PyEval_RestoreThread: NULL tstate\n",
    "\n",
    "\n",
    "root = tk.Tk()\n",
    "my_gui = myTk(root)\n",
    "root.mainloop()\n",
    "\n"
   ]
  },
  {
   "cell_type": "code",
   "execution_count": 28,
   "metadata": {},
   "outputs": [
    {
     "name": "stdout",
     "output_type": "stream",
     "text": [
      "Fail to load data with 194 GPS Points.\n"
     ]
    }
   ],
   "source": [
    "#create questions\n",
    "from collections import deque\n",
    "import numpy as np\n",
    "import visLib as vb\n",
    "import random as rd\n",
    "import os\n",
    "import sys\n",
    "\n",
    "HER_GRID = 20\n",
    "VER_GRID = 20\n",
    "HER_LEN = 1800\n",
    "VER_LEN = 1200\n",
    "\n",
    "COL= HER_LEN//HER_GRID\n",
    "questions = []\n",
    "answers = []\n",
    "questionStrokeRange = [193,195]\n",
    "datas=[]\n",
    "\n",
    "def findDirection(dx,dy):\n",
    "    \n",
    "    if dx >= 0 and dy >= 0:\n",
    "        if dx >= dy:\n",
    "            return [[1,0],[0,1],[0,-1],[-1,0]]\n",
    "        else:\n",
    "            return [[0,1],[1,0],[-1,0],[0,-1]]\n",
    "    elif dx<0 and dy<0:\n",
    "        if dx >= dy:\n",
    "            return [[-1,0],[0,-1],[0,1],[1,0]]\n",
    "        else:\n",
    "            return [[0,-1],[-1,0],[1,0],[0,1]]\n",
    "    elif dx>=0 and dy <0:\n",
    "        if abs(dx) >= abs(dy):\n",
    "            return [[1,0],[0,-1],[0,1],[-1,0]]\n",
    "        else:\n",
    "            return [[0,-1],[1,0],[-1,0],[0,1]]\n",
    "    else:\n",
    "        if abs(dx) >= abs(dy):\n",
    "            return [[-1,0],[0,1],[0,-1],[1,0]]\n",
    "        else:\n",
    "            return [[0,1],[-1,0],[1,0],[0,-1]]\n",
    "            \n",
    "def onTrajectory(p1,p2, cur):\n",
    "    x1 = p1[0]\n",
    "    x2 = p2[0]\n",
    "    y1 = p1[1]\n",
    "    y2 = p2[1]\n",
    "    x0 = cur[0]\n",
    "    y0 = cur[1]\n",
    "    if x1==x2 and y1 == y2:\n",
    "        return (x0-x1)**2+(y0-y1)**2 <=3\n",
    "    dis = abs((x2-x1)*(y1-y0) - (x1-x0)*(y2-y1)) / np.sqrt(np.square(x2-x1) + np.square(y2-y1))\n",
    "    return dis<=1.5\n",
    "\n",
    "def grid_anchors(rowCells,colCells,row=5,col=8):\n",
    "    st_w=colCells//(col+1)\n",
    "    st_h=rowCells//(row+1)\n",
    "    #print(st_w,st_h)\n",
    "    ini_w=0\n",
    "    ini_h=0\n",
    "    anchors = []\n",
    "    for i in range(row):\n",
    "        ini_h+=st_h\n",
    "        ini_w=0\n",
    "        for j in range(col):\n",
    "            ini_w+=st_w\n",
    "            anchors.append([ini_w,ini_h])\n",
    "    return anchors\n",
    "    \n",
    "def getGridlizedTrajectory(strokes):\n",
    "    hhalf = HER_LEN//2\n",
    "    vhalf = VER_LEN//2\n",
    "    gridTrajectory = [[round((strokes[0][0]+hhalf)//HER_GRID),round(-((strokes[0][1]-vhalf)//VER_GRID))]]\n",
    "    ret=[]\n",
    "    visited={}\n",
    "    prePoint = gridTrajectory[-1]\n",
    "    ret.append(prePoint)\n",
    "    for i in range(1,len(strokes)):\n",
    "        prePoint = gridTrajectory[-1]\n",
    "        curPoint = [round((strokes[i][0]+hhalf)//HER_GRID),round(-((strokes[i][1]-vhalf)//VER_GRID))]\n",
    "        gridTrajectory.append(curPoint)\n",
    "        xmin= min(prePoint[0],curPoint[0])\n",
    "        xmax = max(prePoint[0],curPoint[0])\n",
    "        ymin= min(prePoint[1],curPoint[1])\n",
    "        ymax = max(prePoint[1],curPoint[1])\n",
    "        \n",
    "        dx = curPoint[0] - prePoint[0]\n",
    "        dy = curPoint[1] - prePoint[1]\n",
    "\n",
    "        direction = findDirection(dx,dy)\n",
    "        nodeQueue = deque()\n",
    "        nodeQueue.append((prePoint[0],prePoint[1]))\n",
    "        while nodeQueue:\n",
    "            curNode = nodeQueue.popleft()\n",
    "            visited[curNode]=1\n",
    "            for d in direction:\n",
    "                nextNode = (curNode[0]+d[0],curNode[1]+d[1])\n",
    "                if nextNode not in visited and xmin<=nextNode[0]<=xmax and ymin<=nextNode[1]<=ymax:\n",
    "                    visited[nextNode]=1\n",
    "                    if onTrajectory(prePoint,curPoint,nextNode):\n",
    "                        nodeQueue.append(nextNode)\n",
    "                        ret.append([nextNode[0],nextNode[1]])\n",
    "    return ret\n",
    "\n",
    "def to1DTraj(gridTrajectory, col):\n",
    "    ret=[]\n",
    "    for point in gridTrajectory:\n",
    "        ret.append(point[1]*col+point[0]+1)\n",
    "        #print(\"X:{} Y:{}\".format(point[0],point[1]))\n",
    "    return ret\n",
    "\n",
    "anchors = grid_anchors(60,90)\n",
    "colmax = list(map(max, zip(*gridTrajectory))) \n",
    "colmin = list(map(min, zip(*gridTrajectory))) \n",
    "#print(colmax,colmin)\n",
    "if min(colmin)>=0 and colmax[0]<=HER_LEN//HER_GRID and colmax[1]<= VER_LEN//VER_GRID:\n",
    "\n",
    "    gridAnchor1D = to1DTraj(anchors,COL)\n",
    "    cmd = \"./experiment/getAnswer.o \"\n",
    "    cmd += str(HER_GRID)+\" \"\n",
    "    cmd += str(VER_GRID)+\" \"\n",
    "    cmd += str(HER_LEN)+\" \"\n",
    "    cmd += str(VER_LEN)+\" \"\n",
    "    cmd += str(COL)+\" \"\n",
    "    cmd += str(len(anchors))+ \" \"\n",
    "    for anchor in gridAnchor1D:\n",
    "        cmd+=str(anchor)\n",
    "        cmd+=\" \"\n",
    "    cmd += str(len(gridTraj1D))+ \" \"\n",
    "    #os.system(cmd)\n",
    "\n",
    "\n",
    "for GPSPoints in range(questionStrokeRange[0],questionStrokeRange[1]):\n",
    "    try:\n",
    "        datas = vb.loadData(GPSPoints)\n",
    "        dirName ='./dataExpect/'+str(GPSPoints)\n",
    "        if not os.path.exists(dirName):\n",
    "            os.makedirs(dirName)\n",
    "    except:\n",
    "        print(\"Fail to load data with {} GPS Points.\".format(GPSPoints))\n",
    "    '''\n",
    "    for _n in range(1,len(datas)):\n",
    "        try:\n",
    "            trajectory = vb.createLineList(_n,datas)\n",
    "            finalRect = vb.getMiniRect(trajectory)\n",
    "            angle = vb.angleToRightRect(finalRect)\n",
    "            x,y = vb.findRightPlot(trajectory,finalRect,angle)\n",
    "            stroke = vb.getStroke(x,y)\n",
    "            \n",
    "            #print (anchors)\n",
    "            gridTrajectory = getGridlizedTrajectory(stroke)\n",
    "            gridTraj1D = to1DTraj(gridTrajectory, COL)\n",
    "            f = open(dirName + \"/TAS_\"+str(_n), \"w\")\n",
    "            f.write(\" \".join(str(x) for x in gridTraj1D))\n",
    "            f.close()\n",
    "\n",
    "            \n",
    "        except:\n",
    "            print(\"fail in case with {} GPS Points and {}th trajectory.\".format(GPSPoints,_n))\n",
    "    '''\n",
    "            \n"
   ]
  },
  {
   "cell_type": "code",
   "execution_count": null,
   "metadata": {},
   "outputs": [],
   "source": []
  }
 ],
 "metadata": {
  "kernelspec": {
   "display_name": "Python 3",
   "language": "python",
   "name": "python3"
  },
  "language_info": {
   "codemirror_mode": {
    "name": "ipython",
    "version": 3
   },
   "file_extension": ".py",
   "mimetype": "text/x-python",
   "name": "python",
   "nbconvert_exporter": "python",
   "pygments_lexer": "ipython3",
   "version": "3.6.9"
  }
 },
 "nbformat": 4,
 "nbformat_minor": 4
}
